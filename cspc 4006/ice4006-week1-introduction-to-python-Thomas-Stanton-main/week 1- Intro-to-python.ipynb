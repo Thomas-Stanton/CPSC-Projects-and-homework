{
 "cells": [
  {
   "cell_type": "markdown",
   "metadata": {},
   "source": [
    "# ICE4006 - Data Science - automn 2024\n",
    "## week 1 - prac session - introduction\n",
    "###  Welcome to this interactive Jupyter notebook designed to teach you Python programming basics and introduce you to data analysis using pandas, numpy, and matplotlib. Let's get started!\n"
   ]
  },
  {
   "cell_type": "markdown",
   "metadata": {},
   "source": [
    "# **Table of Contents:**\n",
    "# - [1. Python Basics](#python-basics)\n",
    "#   - [1.1. Variables and Data Types](#variables-and-data-types)\n",
    "#   - [1.2. Control Flow (if, if-else, loops)](#control-flow)\n",
    "#   - [1.3. Lists, Sets, Tuples, and Dicts](#lists-and-sets)\n",
    "#   - [1.4. Functions](#functions)\n",
    "# - [2. Data Analysis with Pandas](#data-analysis)\n",
    "#   - [2.1. Loading Data](#loading-data)\n",
    "#   "
   ]
  },
  {
   "cell_type": "markdown",
   "metadata": {},
   "source": [
    "# Let's begin by importing the necessary libraries.\n"
   ]
  },
  {
   "cell_type": "code",
   "execution_count": 1,
   "metadata": {},
   "outputs": [
    {
     "name": "stderr",
     "output_type": "stream",
     "text": [
      "C:\\Users\\vhs20ltg\\Anaconda3\\lib\\site-packages\\pandas\\core\\computation\\expressions.py:20: UserWarning: Pandas requires version '2.7.3' or newer of 'numexpr' (version '2.7.1' currently installed).\n",
      "  from pandas.core.computation.check import NUMEXPR_INSTALLED\n"
     ]
    }
   ],
   "source": [
    "import pandas as pd\n",
    "import numpy as np\n",
    "import matplotlib.pyplot as plt"
   ]
  },
  {
   "cell_type": "markdown",
   "metadata": {},
   "source": [
    "# 1. Python Basics <a id=\"python-basics\"></a>\n"
   ]
  },
  {
   "cell_type": "markdown",
   "metadata": {},
   "source": [
    "### In Python, you can declare variables and assign values to them. Python has various data types, including integers, floats, strings, and booleans.\n"
   ]
  },
  {
   "cell_type": "code",
   "execution_count": 1,
   "metadata": {},
   "outputs": [],
   "source": [
    "# Example:\n",
    "\n",
    "name = \"Alice\"     # String\n",
    "age = 30           # Integer\n",
    "height = 1.75      # Float\n",
    "is_student = True  # Boolean\n",
    "future = None      #empty (None)"
   ]
  },
  {
   "cell_type": "markdown",
   "metadata": {},
   "source": [
    "## 1.2. Control Flow (if, if-else, loops) <a id=\"control-flow\"></a>\n"
   ]
  },
  {
   "cell_type": "markdown",
   "metadata": {},
   "source": [
    "### Control flow allows you to make decisions and repeat actions based on conditions. We'll cover `if` statements, `if-else` statements, and loops like `for` and `while`.\n"
   ]
  },
  {
   "cell_type": "code",
   "execution_count": 3,
   "metadata": {},
   "outputs": [
    {
     "name": "stdout",
     "output_type": "stream",
     "text": [
      "You are an adult.\n"
     ]
    }
   ],
   "source": [
    "# Example:\n",
    "if age < 18:\n",
    "    print(\"You are a minor.\")\n",
    "else:\n",
    "    print(\"You are an adult.\")"
   ]
  },
  {
   "cell_type": "code",
   "execution_count": 4,
   "metadata": {},
   "outputs": [
    {
     "name": "stdout",
     "output_type": "stream",
     "text": [
      "1-th number is:0\n",
      "2-th number is:1\n",
      "3-th number is:2\n",
      "4-th number is:3\n",
      "5-th number is:4\n"
     ]
    }
   ],
   "source": [
    "for i in range(5):\n",
    "    print(f'{i+1}-th number is:{i}')"
   ]
  },
  {
   "cell_type": "code",
   "execution_count": 5,
   "metadata": {},
   "outputs": [
    {
     "name": "stdout",
     "output_type": "stream",
     "text": [
      "1-th number is:0\n",
      "2-th number is:1\n",
      "3-th number is:2\n",
      "4-th number is:3\n",
      "5-th number is:4\n",
      "6-th number is:5\n",
      "7-th number is:6\n"
     ]
    }
   ],
   "source": [
    "i=0\n",
    "while i <7:\n",
    "    print(f'{i+1}-th number is:{i}')\n",
    "    i += 1 # i=i+1"
   ]
  },
  {
   "cell_type": "markdown",
   "metadata": {},
   "source": [
    "## 1.3. Lists, Sets,Tupels and Dicts <a id=\"lists-and-sets\"></a>"
   ]
  },
  {
   "cell_type": "markdown",
   "metadata": {},
   "source": [
    "## Lists:\n",
    "\n",
    "### Lists are ordered collections of elements that can be of different data types. Lists are mutable, meaning you can change their content (add, remove, or modify elements)."
   ]
  },
  {
   "cell_type": "code",
   "execution_count": 6,
   "metadata": {},
   "outputs": [],
   "source": [
    "# Example:\n",
    "fruits = [\"apple\", \"banana\", \"cherry\"]\n",
    "numbers = [1, 2, 3, 4, 5]\n",
    "mixed_list = [\"apple\", 2, 3.14, True]"
   ]
  },
  {
   "cell_type": "markdown",
   "metadata": {},
   "source": [
    "## Sets:\n",
    "\n",
    "### Sets are unordered collections of unique elements. Sets are mutable, so you can add or remove items, but they do not allow duplicates."
   ]
  },
  {
   "cell_type": "code",
   "execution_count": 7,
   "metadata": {},
   "outputs": [],
   "source": [
    "unique_numbers = {1, 2, 3, 4, 5}\n",
    "unique_characters = set(\"hello\")"
   ]
  },
  {
   "cell_type": "markdown",
   "metadata": {},
   "source": [
    "## Tuples:\n",
    "### Tuples are ordered collections of elements that are immutable, meaning their content cannot be changed once defined. Tuples are typically used for storing related pieces of data."
   ]
  },
  {
   "cell_type": "code",
   "execution_count": 8,
   "metadata": {},
   "outputs": [],
   "source": [
    "coordinates = (3, 4)\n",
    "rgb_color = (255, 0, 0)"
   ]
  },
  {
   "cell_type": "markdown",
   "metadata": {},
   "source": [
    "## Dictionaries (Dicts):\n",
    "\n",
    "### Dictionaries are unordered collections of key-value pairs. Each key is associated with a value, and keys must be unique within a dictionary. Dictionaries are mutable."
   ]
  },
  {
   "cell_type": "code",
   "execution_count": 9,
   "metadata": {},
   "outputs": [],
   "source": [
    "person = {\"name\": \"Alice\", \"age\": 30, \"city\": \"New York\"}\n",
    "student_grades = {\"math\": 95, \"history\": 88, \"science\": 92}"
   ]
  },
  {
   "cell_type": "code",
   "execution_count": 10,
   "metadata": {},
   "outputs": [
    {
     "data": {
      "text/plain": [
       "143"
      ]
     },
     "execution_count": 10,
     "metadata": {},
     "output_type": "execute_result"
    }
   ],
   "source": [
    "aa=143\n",
    "aa"
   ]
  },
  {
   "cell_type": "markdown",
   "metadata": {},
   "source": [
    "<div style=\"background-color: lightyellow;\">\n",
    "<font color=\"green\">\n",
    "    \n",
    "## Exercise 1: Create a list of tuples; each set includes a user's name(first item) and age(second item). Then, using a loop, determine if that person is allowed to vote or not. (min age to vote is 18)\n",
    "    \n",
    "</font>\n",
    "</div>"
   ]
  },
  {
   "cell_type": "code",
   "execution_count": 4,
   "metadata": {},
   "outputs": [
    {
     "name": "stdout",
     "output_type": "stream",
     "text": [
      "You can vote\n",
      "You are a minor\n",
      "You can vote\n",
      "You can vote\n",
      "You are a minor\n"
     ]
    }
   ],
   "source": [
    "Voters = [( \"Alice\", 30),( \"Stuart\", 10),(\"Mike\", 18),\n",
    "(\"John\", 99), (\"Lucy\",17)]\n",
    "\n",
    "minimumAge = 18\n",
    "for voter in Voters:\n",
    "    name, age = voter\n",
    "    if age < 18:\n",
    "        print(\"You are a minor\")\n",
    "    else:\n",
    "        print(\"You can vote\")\n",
    "\n",
    "\n",
    "\n"
   ]
  },
  {
   "cell_type": "markdown",
   "metadata": {},
   "source": [
    "## 1.4. Functions <a id=\"functions\"></a>"
   ]
  },
  {
   "cell_type": "markdown",
   "metadata": {},
   "source": [
    "### Functions allow you to encapsulate blocks of code for reuse. You can define your functions and pass parameters to them."
   ]
  },
  {
   "cell_type": "code",
   "execution_count": 13,
   "metadata": {},
   "outputs": [
    {
     "name": "stdout",
     "output_type": "stream",
     "text": [
      "Hello, Bob!\n"
     ]
    }
   ],
   "source": [
    "# Example:\n",
    "def greet(name):\n",
    "    return f\"Hello, {name}!\"\n",
    "\n",
    "greeting = greet(\"Bob\")\n",
    "print(greeting)\n"
   ]
  },
  {
   "cell_type": "code",
   "execution_count": 14,
   "metadata": {},
   "outputs": [
    {
     "data": {
      "text/plain": [
       "6"
      ]
     },
     "execution_count": 14,
     "metadata": {},
     "output_type": "execute_result"
    }
   ],
   "source": [
    "def multipleby2(num):\n",
    "    return 2*num\n",
    "multipleby2(3)"
   ]
  },
  {
   "cell_type": "markdown",
   "metadata": {},
   "source": [
    "<div style=\"background-color: lightyellow;\">\n",
    "<font color=\"green\">\n",
    "    \n",
    "## Exercise 2: Creating a Simple Dictionary for a Toy Collection\n",
    "\n",
    "In this exercise, you will create a Python dictionary to store information about toys. Each toy will have:\n",
    "\n",
    "- **Name (string)**\n",
    "- **Age Suitability (integer)**\n",
    "- **Is it Electronic? (boolean)**\n",
    "\n",
    "You will use the Name of the toy as the key, and the details about the toy as the value.\n",
    "\n",
    "### Step 1: Start with Two Toys\n",
    "Here’s a dictionary with two toys to get you started:\n",
    "\n",
    "```python\n",
    "toy_collection = {\n",
    "    \"Teddy Bear\": {\n",
    "        \"age_suitability\": 3,\n",
    "        \"is_electronic\": False\n",
    "    },\n",
    "    \"Remote Control Car\": {\n",
    "        \"age_suitability\": 6,\n",
    "        \"is_electronic\": True\n",
    "    }\n",
    "}\n",
    "```\n",
    "### Step 2: Add More Toys\n",
    "Now, add one or two more toys to the toy_collection dictionary. Make sure each toy has:\n",
    "- Name (string)\n",
    "- Age Suitability (integer)\n",
    "- Is it Electronic? (boolean)\n",
    "\n",
    "### Step 3: Create Simple Functions\n",
    "\n",
    "Next, create easy functions to do the following:\n",
    "\n",
    "- Find a Toy: Write a function that takes the name of a toy as input and shows its details (or tells you if it’s not in the collection).\n",
    "- Add a New Toy: Write a function that lets you add a new toy with its name, age suitability, and whether it’s electronic.\n",
    "- Remove a Toy: Write a function that lets you remove a toy by name.\n",
    "- List all Toys: Write a function that shows the names of all toys in the collection.\n",
    "</font>\n",
    "    </div>"
   ]
  },
  {
   "cell_type": "code",
   "execution_count": 19,
   "metadata": {},
   "outputs": [
    {
     "name": "stdout",
     "output_type": "stream",
     "text": [
      "{\n",
      "    \"Teddy Bear\": {\n",
      "        \"age_suitability\": 3,\n",
      "        \"is_electronic\": false\n",
      "    },\n",
      "    \"Remote Control Car\": {\n",
      "        \"age_suitability\": 6,\n",
      "        \"is_electronic\": true\n",
      "    },\n",
      "    \"Robot\": {\n",
      "        \"age_suitability\": 8,\n",
      "        \"is_electronic\": true\n",
      "    },\n",
      "    \"Doll\": {\n",
      "        \"age_suitability\": 2,\n",
      "        \"is_electronic\": false\n",
      "    }\n",
      "}\n"
     ]
    }
   ],
   "source": [
    "toy_collection = {\n",
    "    \"Teddy Bear\": {\n",
    "        \"age_suitability\": 3,\n",
    "        \"is_electronic\": False\n",
    "    },\n",
    "    \"Remote Control Car\": {\n",
    "        \"age_suitability\": 6,\n",
    "        \"is_electronic\": True\n",
    "    },\n",
    "    \"Robot\": {\n",
    "        \"age_suitability\": 8,\n",
    "        \"is_electronic\": True\n",
    "    },\n",
    "    \"Doll\": {\n",
    "        \"age_suitability\": 2,\n",
    "        \"is_electronic\": False\n",
    "    }\n",
    "}\n",
    "\n",
    "findToy = input(\"Enter toy type\")\n",
    "if findToy in toy_collection:\n",
    "    print(f\"The list for {findToy} is: {toy_collection[findToy]}\")\n",
    "    \n",
    "addToy = input(\"Add a toy type: \")\n",
    "toyAge = input(\"Enter the  age suitability then if it is electronic \")\n",
    "toyElec =  input(\"Enter if it is electronic \")\n",
    "collection = {addToy : {\"age_suitability\": toyAge , \"is_electronic\": toyElec}}\n",
    "toy_collection.update(collection)\n",
    "\n",
    "print(\"Updated dictionary:\", toy_collection)\n",
    "\n",
    "deleteToy = input(\"Which toy would you like to remove?\")\n",
    "toy_collection.pop(deleteToy)\n",
    "\n",
    "print(toy_collection)\n",
    "json_str = json.dumps(my_dict, indent=4)\n",
    "\n",
    "json_str = json.dumps(toy_collection, indent=4)\n",
    "print(json_str)\n",
    "\n"
   ]
  },
  {
   "cell_type": "markdown",
   "metadata": {},
   "source": [
    "# 2. Data Analysis with Pandas <a id=\"data-analysis\"></a>"
   ]
  },
  {
   "cell_type": "markdown",
   "metadata": {},
   "source": [
    "## 2.1. Loading Data <a id=\"loading-data\"></a>"
   ]
  },
  {
   "cell_type": "code",
   "execution_count": 15,
   "metadata": {},
   "outputs": [
    {
     "data": {
      "text/html": [
       "<div>\n",
       "<style scoped>\n",
       "    .dataframe tbody tr th:only-of-type {\n",
       "        vertical-align: middle;\n",
       "    }\n",
       "\n",
       "    .dataframe tbody tr th {\n",
       "        vertical-align: top;\n",
       "    }\n",
       "\n",
       "    .dataframe thead th {\n",
       "        text-align: right;\n",
       "    }\n",
       "</style>\n",
       "<table border=\"1\" class=\"dataframe\">\n",
       "  <thead>\n",
       "    <tr style=\"text-align: right;\">\n",
       "      <th></th>\n",
       "      <th>id</th>\n",
       "      <th>date</th>\n",
       "      <th>price</th>\n",
       "      <th>bedrooms</th>\n",
       "      <th>bathrooms</th>\n",
       "      <th>sqft_living</th>\n",
       "      <th>sqft_lot</th>\n",
       "      <th>floors</th>\n",
       "      <th>waterfront</th>\n",
       "      <th>view</th>\n",
       "      <th>...</th>\n",
       "      <th>grade</th>\n",
       "      <th>sqft_above</th>\n",
       "      <th>sqft_basement</th>\n",
       "      <th>yr_built</th>\n",
       "      <th>yr_renovated</th>\n",
       "      <th>zipcode</th>\n",
       "      <th>lat</th>\n",
       "      <th>long</th>\n",
       "      <th>sqft_living15</th>\n",
       "      <th>sqft_lot15</th>\n",
       "    </tr>\n",
       "  </thead>\n",
       "  <tbody>\n",
       "    <tr>\n",
       "      <th>0</th>\n",
       "      <td>7129300520</td>\n",
       "      <td>20141013T000000</td>\n",
       "      <td>221900.0</td>\n",
       "      <td>3</td>\n",
       "      <td>1.00</td>\n",
       "      <td>1180</td>\n",
       "      <td>5650</td>\n",
       "      <td>1.0</td>\n",
       "      <td>0</td>\n",
       "      <td>0</td>\n",
       "      <td>...</td>\n",
       "      <td>7</td>\n",
       "      <td>1180</td>\n",
       "      <td>0</td>\n",
       "      <td>1955</td>\n",
       "      <td>0</td>\n",
       "      <td>98178</td>\n",
       "      <td>47.5112</td>\n",
       "      <td>-122.257</td>\n",
       "      <td>1340</td>\n",
       "      <td>5650</td>\n",
       "    </tr>\n",
       "    <tr>\n",
       "      <th>1</th>\n",
       "      <td>6414100192</td>\n",
       "      <td>20141209T000000</td>\n",
       "      <td>538000.0</td>\n",
       "      <td>3</td>\n",
       "      <td>2.25</td>\n",
       "      <td>2570</td>\n",
       "      <td>7242</td>\n",
       "      <td>2.0</td>\n",
       "      <td>0</td>\n",
       "      <td>0</td>\n",
       "      <td>...</td>\n",
       "      <td>7</td>\n",
       "      <td>2170</td>\n",
       "      <td>400</td>\n",
       "      <td>1951</td>\n",
       "      <td>1991</td>\n",
       "      <td>98125</td>\n",
       "      <td>47.7210</td>\n",
       "      <td>-122.319</td>\n",
       "      <td>1690</td>\n",
       "      <td>7639</td>\n",
       "    </tr>\n",
       "    <tr>\n",
       "      <th>2</th>\n",
       "      <td>5631500400</td>\n",
       "      <td>20150225T000000</td>\n",
       "      <td>180000.0</td>\n",
       "      <td>2</td>\n",
       "      <td>1.00</td>\n",
       "      <td>770</td>\n",
       "      <td>10000</td>\n",
       "      <td>1.0</td>\n",
       "      <td>0</td>\n",
       "      <td>0</td>\n",
       "      <td>...</td>\n",
       "      <td>6</td>\n",
       "      <td>770</td>\n",
       "      <td>0</td>\n",
       "      <td>1933</td>\n",
       "      <td>0</td>\n",
       "      <td>98028</td>\n",
       "      <td>47.7379</td>\n",
       "      <td>-122.233</td>\n",
       "      <td>2720</td>\n",
       "      <td>8062</td>\n",
       "    </tr>\n",
       "    <tr>\n",
       "      <th>3</th>\n",
       "      <td>2487200875</td>\n",
       "      <td>20141209T000000</td>\n",
       "      <td>604000.0</td>\n",
       "      <td>4</td>\n",
       "      <td>3.00</td>\n",
       "      <td>1960</td>\n",
       "      <td>5000</td>\n",
       "      <td>1.0</td>\n",
       "      <td>0</td>\n",
       "      <td>0</td>\n",
       "      <td>...</td>\n",
       "      <td>7</td>\n",
       "      <td>1050</td>\n",
       "      <td>910</td>\n",
       "      <td>1965</td>\n",
       "      <td>0</td>\n",
       "      <td>98136</td>\n",
       "      <td>47.5208</td>\n",
       "      <td>-122.393</td>\n",
       "      <td>1360</td>\n",
       "      <td>5000</td>\n",
       "    </tr>\n",
       "    <tr>\n",
       "      <th>4</th>\n",
       "      <td>1954400510</td>\n",
       "      <td>20150218T000000</td>\n",
       "      <td>510000.0</td>\n",
       "      <td>3</td>\n",
       "      <td>2.00</td>\n",
       "      <td>1680</td>\n",
       "      <td>8080</td>\n",
       "      <td>1.0</td>\n",
       "      <td>0</td>\n",
       "      <td>0</td>\n",
       "      <td>...</td>\n",
       "      <td>8</td>\n",
       "      <td>1680</td>\n",
       "      <td>0</td>\n",
       "      <td>1987</td>\n",
       "      <td>0</td>\n",
       "      <td>98074</td>\n",
       "      <td>47.6168</td>\n",
       "      <td>-122.045</td>\n",
       "      <td>1800</td>\n",
       "      <td>7503</td>\n",
       "    </tr>\n",
       "  </tbody>\n",
       "</table>\n",
       "<p>5 rows × 21 columns</p>\n",
       "</div>"
      ],
      "text/plain": [
       "           id             date     price  bedrooms  bathrooms  sqft_living  \\\n",
       "0  7129300520  20141013T000000  221900.0         3       1.00         1180   \n",
       "1  6414100192  20141209T000000  538000.0         3       2.25         2570   \n",
       "2  5631500400  20150225T000000  180000.0         2       1.00          770   \n",
       "3  2487200875  20141209T000000  604000.0         4       3.00         1960   \n",
       "4  1954400510  20150218T000000  510000.0         3       2.00         1680   \n",
       "\n",
       "   sqft_lot  floors  waterfront  view  ...  grade  sqft_above  sqft_basement  \\\n",
       "0      5650     1.0           0     0  ...      7        1180              0   \n",
       "1      7242     2.0           0     0  ...      7        2170            400   \n",
       "2     10000     1.0           0     0  ...      6         770              0   \n",
       "3      5000     1.0           0     0  ...      7        1050            910   \n",
       "4      8080     1.0           0     0  ...      8        1680              0   \n",
       "\n",
       "   yr_built  yr_renovated  zipcode      lat     long  sqft_living15  \\\n",
       "0      1955             0    98178  47.5112 -122.257           1340   \n",
       "1      1951          1991    98125  47.7210 -122.319           1690   \n",
       "2      1933             0    98028  47.7379 -122.233           2720   \n",
       "3      1965             0    98136  47.5208 -122.393           1360   \n",
       "4      1987             0    98074  47.6168 -122.045           1800   \n",
       "\n",
       "   sqft_lot15  \n",
       "0        5650  \n",
       "1        7639  \n",
       "2        8062  \n",
       "3        5000  \n",
       "4        7503  \n",
       "\n",
       "[5 rows x 21 columns]"
      ]
     },
     "execution_count": 15,
     "metadata": {},
     "output_type": "execute_result"
    }
   ],
   "source": [
    "# Let's load the house price prediction dataset using pandas.\n",
    "\n",
    "data = pd.read_csv('house_data.csv')\n",
    "data.head()"
   ]
  },
  {
   "cell_type": "markdown",
   "metadata": {},
   "source": [
    "1. id :- It is the unique numeric number assigned to each house being sold.\n",
    "2. date :- It is the date on which the house was sold out.\n",
    "3. price:- It is the price of house which we have to predict so this is our target variable and aprat from it are our features.\n",
    "4. bedrooms :- It determines number of bedrooms in a house.\n",
    "5. bathrooms :- It determines number of bathrooms in a bedroom of a house.\n",
    "6. sqft_living :- It is the measurement variable which determines the measurement of house in square foot.\n",
    "7. sqft_lot : It is also the measurement variable which determines square foot of the lot.\n",
    "8. floors: It determines total floors means levels of house.\n",
    "9. waterfront : This feature determines whether a house has a view to waterfront 0 means no 1 means yes.\n",
    "10. view : This feature determines whether a house has been viewed or not 0 means no 1 means yes.\n",
    "11. condition : It determines the overall condition of a house on a scale of 1 to 5.\n",
    "12. grade : It determines the overall grade given to the housing unit, based on King County grading system on a scale of 1 to 11.\n",
    "13. sqft_above : It determines square footage of house apart from basement.\n",
    "14. sqft_basement : It determines square footage of the basement of the house.\n",
    "15. yr_built : It detrmines the date of building of the house.\n",
    "16. yr_renovated : It detrmines year of renovation of house.\n",
    "17. zipcode : It determines the zipcode of the location of the house.\n",
    "18. lat : It determines the latitude of the location of the house.\n",
    "19. long : It determines the longitude of the location of the house.\n",
    "20. sqft_living15 : Living room area in 2015(implies-- some renovations)\n",
    "21. sqft_lot15 : lotSize area in 2015(implies-- some renovations)"
   ]
  },
  {
   "cell_type": "code",
   "execution_count": 16,
   "metadata": {},
   "outputs": [
    {
     "name": "stdout",
     "output_type": "stream",
     "text": [
      "<class 'pandas.core.frame.DataFrame'>\n",
      "RangeIndex: 21613 entries, 0 to 21612\n",
      "Data columns (total 21 columns):\n",
      " #   Column         Non-Null Count  Dtype  \n",
      "---  ------         --------------  -----  \n",
      " 0   id             21613 non-null  int64  \n",
      " 1   date           21613 non-null  object \n",
      " 2   price          21613 non-null  float64\n",
      " 3   bedrooms       21613 non-null  int64  \n",
      " 4   bathrooms      21613 non-null  float64\n",
      " 5   sqft_living    21613 non-null  int64  \n",
      " 6   sqft_lot       21613 non-null  int64  \n",
      " 7   floors         21613 non-null  float64\n",
      " 8   waterfront     21613 non-null  int64  \n",
      " 9   view           21613 non-null  int64  \n",
      " 10  condition      21613 non-null  int64  \n",
      " 11  grade          21613 non-null  int64  \n",
      " 12  sqft_above     21613 non-null  int64  \n",
      " 13  sqft_basement  21613 non-null  int64  \n",
      " 14  yr_built       21613 non-null  int64  \n",
      " 15  yr_renovated   21613 non-null  int64  \n",
      " 16  zipcode        21613 non-null  int64  \n",
      " 17  lat            21613 non-null  float64\n",
      " 18  long           21613 non-null  float64\n",
      " 19  sqft_living15  21613 non-null  int64  \n",
      " 20  sqft_lot15     21613 non-null  int64  \n",
      "dtypes: float64(5), int64(15), object(1)\n",
      "memory usage: 3.5+ MB\n"
     ]
    }
   ],
   "source": [
    "#get data information\n",
    "data.info()"
   ]
  },
  {
   "cell_type": "code",
   "execution_count": 17,
   "metadata": {},
   "outputs": [
    {
     "data": {
      "text/plain": [
       "(21613, 21)"
      ]
     },
     "execution_count": 17,
     "metadata": {},
     "output_type": "execute_result"
    }
   ],
   "source": [
    "data.shape"
   ]
  },
  {
   "cell_type": "code",
   "execution_count": null,
   "metadata": {},
   "outputs": [],
   "source": []
  }
 ],
 "metadata": {
  "hide_input": false,
  "kernelspec": {
   "display_name": "Python 3 (ipykernel)",
   "language": "python",
   "name": "python3"
  },
  "language_info": {
   "codemirror_mode": {
    "name": "ipython",
    "version": 3
   },
   "file_extension": ".py",
   "mimetype": "text/x-python",
   "name": "python",
   "nbconvert_exporter": "python",
   "pygments_lexer": "ipython3",
   "version": "3.12.4"
  }
 },
 "nbformat": 4,
 "nbformat_minor": 4
}
