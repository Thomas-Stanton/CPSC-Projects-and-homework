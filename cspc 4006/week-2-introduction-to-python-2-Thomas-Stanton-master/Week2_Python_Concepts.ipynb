{
 "cells": [
  {
   "cell_type": "markdown",
   "id": "6b931ae8-5998-469d-b0af-07bf3560780c",
   "metadata": {},
   "source": [
    "### Welcome to your Python Exercise Notebook!\n",
    "In this notebook, you will practice working with Lists, Sets, Tuples, Dictionaries, and control flows using basic Python concepts.\n",
    "\n",
    "Complete each exercise by filling in the code cells.\n",
    "Good luck and have fun coding!\n"
   ]
  },
  {
   "cell_type": "markdown",
   "id": "b5d72383-77bb-4599-b550-d2d5eef3ce3c",
   "metadata": {},
   "source": [
    "#### Exercise 1: Check if a number is prime\n",
    "Write a function that checks whether a given number is prime or not. A prime number is a number greater than 1 and divisible only by 1 and itself.\n",
    "Complete the function `is_prime(n)` that returns `True` if the number is prime, otherwise `False`.\n"
   ]
  },
  {
   "cell_type": "code",
   "execution_count": null,
   "id": "3d155402-7373-46bc-9b17-d7dde742db18",
   "metadata": {},
   "outputs": [],
   "source": [
    "# Exercise 1\n",
    "def is_prime(n):\n",
    "    answer = True\n",
    "    if(n==1):\n",
    "        answer = False\n",
    "    for i in range(2,n-1):\n",
    "        if(n%i==0):\n",
    "            answer = False\n",
    "    \n",
    "    return answer\n",
    "\n",
    "\n",
    "# Test your function\n",
    "print(is_prime(7))  # Expected output: True\n",
    "print(is_prime(10))  # Expected output: False\n",
    "print(is_prime(5))\n",
    "\n"
   ]
  },
  {
   "cell_type": "markdown",
   "id": "6c6c3aa5-a19c-4c1b-aec3-bd4d0d673cfa",
   "metadata": {},
   "source": [
    "#### Exercise 2: List all prime numbers less than 100\n",
    "Write a function `primes_less_than_100()` that returns a list of all prime numbers less than 100.\n"
   ]
  },
  {
   "cell_type": "code",
   "execution_count": null,
   "id": "6b206fef-ad40-4cd0-a45e-6122e04cfbca",
   "metadata": {},
   "outputs": [],
   "source": [
    "# Exercise 2\n",
    "def primes_less_than_100():\n",
    "    # Your code here\n",
    "    prime_list = []\n",
    "    is_prime = True\n",
    "    for i in range(2,100):\n",
    "        for j in range (2, i-1 ):\n",
    "            if (i%j==0):\n",
    "                is_prime = False\n",
    "        if(is_prime== True):\n",
    "            prime_list.append(i)\n",
    "        is_prime=True\n",
    "    #use append\n",
    "    return prime_list\n",
    "    \n",
    "    pass\n",
    "\n",
    "# Test your function\n",
    "print(primes_less_than_100())  # Expected output: [2, 3, 5, 7, 11, 13, 17, 19, 23, 29, 31, 37, 41, 43, 47, 53, 59, 61, 67, 71, 73, 79, 83, 89, 97]\n"
   ]
  },
  {
   "cell_type": "markdown",
   "id": "2d2c2362-18bf-4843-8ed6-b104abe3a8b3",
   "metadata": {},
   "source": [
    "#### Exercise 3: List the first 100 prime numbers\n",
    "Write a function `first_100_primes()` that returns a list of the first 100 prime numbers.\n"
   ]
  },
  {
   "cell_type": "code",
   "execution_count": null,
   "id": "e124faaa-d841-4ac0-996c-da8d01b1edf5",
   "metadata": {},
   "outputs": [],
   "source": [
    "# Exercise 3\n",
    "def first_100_primes():\n",
    "    counter = 0\n",
    "    while True:\n",
    "        prime_list = []\n",
    "        is_prime = True\n",
    "        for i in range(2,1000000000):\n",
    "            for j in range (2, i-1 ):\n",
    "                if (i%j==0):\n",
    "                    is_prime = False\n",
    "            if(is_prime== True):\n",
    "                prime_list.append(i)\n",
    "            is_prime=True\n",
    "            if len(prime_list) == 100:\n",
    "                return prime_list\n",
    "#if(the list is 100 numbers long\n",
    "    #return that list\n",
    "\n",
    "# Test your function\n",
    "print(first_100_primes())  # Expected output: [2, 3, 5, 7, 11, ...] (100 prime numbers)\n"
   ]
  },
  {
   "cell_type": "markdown",
   "id": "1f82b8e6-2bbc-49bb-bdca-9c5756fd25b5",
   "metadata": {},
   "source": [
    "#### Exercise 4: List operations\n",
    "Given a list of numbers, write a function `even_numbers(lst)` that returns a list containing only the even numbers.\n"
   ]
  },
  {
   "cell_type": "code",
   "execution_count": null,
   "id": "f3d8260b-20fc-4d51-9598-f2b418684056",
   "metadata": {},
   "outputs": [],
   "source": [
    "# Exercise 4\n",
    "def even_numbers(lst):\n",
    "    end_of_list = False\n",
    "    while end_of_list == False:\n",
    "        for i in range(len(lst)):\n",
    "            if lst[i]%2 != 0:\n",
    "                lst.pop(i)\n",
    "                break\n",
    "            if(i == len(lst) -1):\n",
    "                return lst\n",
    "    for(i in range (len(lst)):\n",
    "        if(lst[i]%2 != 0)\n",
    "            return []\n",
    "    \n",
    "\n",
    "# Test your function\n",
    "print(even_numbers([1, 3,5]))  # Expected output: [2, 4, 6]\n"
   ]
  },
  {
   "cell_type": "markdown",
   "id": "0a70fc12-3694-4722-9e68-de359b7362fe",
   "metadata": {},
   "source": [
    "#### Exercise 5: Sets and Tuples\n",
    "- Write a function `unique_elements(lst)` that returns the unique elements in a list as a set.\n",
    "- Write a function `tuple_sum(tup)` that takes a tuple of numbers and returns their sum.\n"
   ]
  },
  {
   "cell_type": "code",
   "execution_count": null,
   "id": "d0589ddd-543d-4897-8807-cecc6010b542",
   "metadata": {},
   "outputs": [],
   "source": [
    "# Exercise 5a: Sets\n",
    "def unique_elements(lst):\n",
    "       return set(lst)\n",
    "\n",
    "# Test your function\n",
    "print(unique_elements([1, 2, 2, 3, 4, 4, 5]))  # Expected output: {1, 2, 3, 4, 5}\n",
    "\n",
    "# Exercise 5b: Tuples\n",
    "def tuple_sum(tup):\n",
    "    total = sum(tup)\n",
    "    return total\n",
    "        \n",
    "    pass\n",
    "\n",
    "# Test your function\n",
    "print(tuple_sum((1, 2, 3)))  # Expected output: 6\n"
   ]
  },
  {
   "cell_type": "markdown",
   "id": "811967ae-1b83-40bb-805a-49ed107f86fd",
   "metadata": {},
   "source": [
    "#### Exercise 6: Dictionary operations\n",
    "Write a function `word_count(s)` that takes a string `s` and returns a dictionary with the count of each word in the string.\n"
   ]
  },
  {
   "cell_type": "code",
   "execution_count": null,
   "id": "44be85b1-ad3c-4f92-a6c5-c4fc0e1e8551",
   "metadata": {},
   "outputs": [],
   "source": [
    "# Exercise 6\n",
    "def word_count(s):\n",
    "    word = s.split()\n",
    "    count_of_words ={}\n",
    "    for i in word:\n",
    "        if i in count_of_words:\n",
    "            count_of_words[i] += 1\n",
    "        else:\n",
    "            count_of_words[i] = 1\n",
    "    return count_of_words    \n",
    "    pass\n",
    "\n",
    "# Test your function\n",
    "print(word_count(\"this is a test this is only a test\"))  \n",
    "# Expected output: {'this': 2, 'is': 2, 'a': 2, 'test': 2, 'only': 1}\n"
   ]
  },
  {
   "cell_type": "markdown",
   "id": "d4194192-1412-420a-a141-d7b09502ab90",
   "metadata": {},
   "source": [
    "#### Exercise 7: Control flow with for/while loops\n",
    "Write a function `factorial(n)` that calculates the factorial of a number `n` using a loop (not recursion).\n"
   ]
  },
  {
   "cell_type": "code",
   "execution_count": null,
   "id": "0b5cfdad-233b-447e-833c-f80954a9d6b6",
   "metadata": {},
   "outputs": [],
   "source": [
    "# Exercise 7\n",
    "def factorial(n):\n",
    "    answer = n\n",
    "    for i in range(n-1,0,-1):\n",
    "        answer *= i\n",
    "    if(answer==0):\n",
    "        answer = 1\n",
    "    return answer\n",
    "\n",
    "# Test your function\n",
    "print(factorial(0))  # Expected output: 120\n"
   ]
  },
  {
   "cell_type": "markdown",
   "id": "251ba6a5-07f3-4aa1-8b15-4434f8878af7",
   "metadata": {},
   "source": [
    "#### Exercise 8: FizzBuzz\n",
    "Write a function `fizzbuzz(n)` that prints numbers from 1 to `n`. For multiples of 3, print \"Fizz\" instead of the number, for multiples of 5, print \"Buzz\". For numbers that are multiples of both 3 and 5, print \"FizzBuzz\".\n"
   ]
  },
  {
   "cell_type": "code",
   "execution_count": 8,
   "id": "6499e13c-a3d1-46ae-88d8-2beff3775212",
   "metadata": {},
   "outputs": [
    {
     "name": "stdout",
     "output_type": "stream",
     "text": [
      "[1, 2, 'Fizz', 4, 'Buzz', 'Fizz', 7, 8, 'Fizz', 'Buzz', 11, 'Fizz', 13, 14, 'FizzBuzz']\n"
     ]
    }
   ],
   "source": [
    "# Exercise 8\n",
    "def fizzbuzz(n):\n",
    "    number = []\n",
    "    for i in range(1, n + 1):\n",
    "        if i % 3 == 0 and i % 5 == 0:\n",
    "            number.append(\"FizzBuzz\")\n",
    "        elif i % 3 == 0:\n",
    "            number.append(\"Fizz\")\n",
    "        elif i % 5 == 0:\n",
    "            number.append(\"Buzz\")\n",
    "        else:\n",
    "            number.append(i)\n",
    "\n",
    "    print(number)\n",
    "# Test your function\n",
    "fizzbuzz(15)\n",
    "# Expected output: \n",
    "# 1\n",
    "# 2\n",
    "# Fizz\n",
    "# 4\n",
    "# Buzz\n",
    "# Fizz\n",
    "# 7\n",
    "# 8\n",
    "# Fizz\n",
    "# Buzz\n",
    "# 11\n",
    "# Fizz\n",
    "# 13\n",
    "# 14\n",
    "# FizzBuzz\n"
   ]
  },
  {
   "cell_type": "markdown",
   "id": "fed88586-344b-44f9-9bdf-3807d1fcba9a",
   "metadata": {},
   "source": [
    "#### Exercise 9: List Comprehension\n",
    "Write a function `squares_of_evens(lst)` that takes a list of numbers and returns a list of squares of only the even numbers using list comprehension.\n"
   ]
  },
  {
   "cell_type": "code",
   "execution_count": null,
   "id": "b1f67136-c0b0-4217-a8fc-6cb11cf6019d",
   "metadata": {},
   "outputs": [],
   "source": [
    "# Exercise 9\n",
    "def squares_of_evens(lst):\n",
    "    evens = []\n",
    "    for i in range(len(lst)):\n",
    "            if lst[i]%2==0:\n",
    "                evens.append(lst[i] *lst[i])\n",
    "    return evens    \n",
    "    pass\n",
    "\n",
    "# Test your function\n",
    "print(squares_of_evens([1, 2, 3, 4, 5]))  # Expected output: [4, 16]\n"
   ]
  },
  {
   "cell_type": "markdown",
   "id": "11942e55-e201-4b1d-b4c7-273ba877c465",
   "metadata": {},
   "source": [
    "### Well done!\n",
    "You've completed the exercises. Keep practicing to improve your Python skills!\n"
   ]
  }
 ],
 "metadata": {
  "kernelspec": {
   "display_name": "Python 3 (ipykernel)",
   "language": "python",
   "name": "python3"
  },
  "language_info": {
   "codemirror_mode": {
    "name": "ipython",
    "version": 3
   },
   "file_extension": ".py",
   "mimetype": "text/x-python",
   "name": "python",
   "nbconvert_exporter": "python",
   "pygments_lexer": "ipython3",
   "version": "3.12.4"
  }
 },
 "nbformat": 4,
 "nbformat_minor": 5
}
